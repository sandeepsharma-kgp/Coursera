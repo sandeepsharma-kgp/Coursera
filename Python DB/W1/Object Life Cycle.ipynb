{
 "cells": [
  {
   "cell_type": "code",
   "execution_count": 6,
   "metadata": {
    "collapsed": false
   },
   "outputs": [
    {
     "name": "stdout",
     "output_type": "stream",
     "text": [
      "I am Constructed\n",
      "I am destructed 3\n",
      "So far 1\n",
      "So far 2\n",
      "So far 3\n"
     ]
    }
   ],
   "source": [
    "class Party:\n",
    "    x=0\n",
    "    \n",
    "    def __init__(self):\n",
    "        print\"I am Constructed\"\n",
    "        \n",
    "    def p(self):\n",
    "        self.x=self.x+1\n",
    "        print\"So far\",self.x\n",
    "        \n",
    "    def __del__(self):\n",
    "        print\"I am destructed\",self.x\n",
    "        \n",
    "an=Party()\n",
    "an.p()\n",
    "an.p()\n",
    "an.p()"
   ]
  },
  {
   "cell_type": "code",
   "execution_count": null,
   "metadata": {
    "collapsed": true
   },
   "outputs": [],
   "source": []
  },
  {
   "cell_type": "code",
   "execution_count": null,
   "metadata": {
    "collapsed": true
   },
   "outputs": [],
   "source": []
  }
 ],
 "metadata": {
  "kernelspec": {
   "display_name": "Python 2",
   "language": "python",
   "name": "python2"
  },
  "language_info": {
   "codemirror_mode": {
    "name": "ipython",
    "version": 2
   },
   "file_extension": ".py",
   "mimetype": "text/x-python",
   "name": "python",
   "nbconvert_exporter": "python",
   "pygments_lexer": "ipython2",
   "version": "2.7.10"
  }
 },
 "nbformat": 4,
 "nbformat_minor": 0
}
