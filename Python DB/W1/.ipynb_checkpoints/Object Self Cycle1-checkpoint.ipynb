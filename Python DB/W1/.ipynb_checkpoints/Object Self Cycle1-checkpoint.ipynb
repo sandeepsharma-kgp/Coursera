{
 "cells": [
  {
   "cell_type": "code",
   "execution_count": 2,
   "metadata": {
    "collapsed": false
   },
   "outputs": [
    {
     "name": "stdout",
     "output_type": "stream",
     "text": [
      "Sally Constructed\n",
      "Sally So far 1\n",
      "Jim Constructed\n",
      "Jim So far 1\n"
     ]
    }
   ],
   "source": [
    "class Party:\n",
    "    x=0\n",
    "    name=\"\"\n",
    "    def __init__(self,nam):\n",
    "        self.name=nam\n",
    "        print self.name,\"Constructed\"\n",
    "        \n",
    "    def p(self):\n",
    "        self.x=self.x+1\n",
    "        print self.name,\"So far\",self.x\n",
    "    \n",
    "    def __del__(self):\n",
    "        print\"I am destructed\",self.x\n",
    "\n",
    "s=Party(\"Sally\")\n",
    "s.p()\n",
    "\n",
    "j=Party(\"Jim\")\n",
    "j.p()"
   ]
  },
  {
   "cell_type": "code",
   "execution_count": null,
   "metadata": {
    "collapsed": true
   },
   "outputs": [],
   "source": []
  }
 ],
 "metadata": {
  "kernelspec": {
   "display_name": "Python 2",
   "language": "python",
   "name": "python2"
  },
  "language_info": {
   "codemirror_mode": {
    "name": "ipython",
    "version": 2
   },
   "file_extension": ".py",
   "mimetype": "text/x-python",
   "name": "python",
   "nbconvert_exporter": "python",
   "pygments_lexer": "ipython2",
   "version": "2.7.10"
  }
 },
 "nbformat": 4,
 "nbformat_minor": 0
}
