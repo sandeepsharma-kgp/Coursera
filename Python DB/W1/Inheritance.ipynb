{
 "cells": [
  {
   "cell_type": "code",
   "execution_count": 5,
   "metadata": {
    "collapsed": false
   },
   "outputs": [
    {
     "name": "stdout",
     "output_type": "stream",
     "text": [
      " Sally constructed\n",
      "Sally party count 1\n",
      "Jim constructed\n",
      "Jim party count 1\n",
      "Jim party count 2\n",
      "Jim points 7\n"
     ]
    }
   ],
   "source": [
    "class PartyAnimal():\n",
    "    x=0\n",
    "    name=\"\"\n",
    "    \n",
    "    def __init__ (self,nam):\n",
    "        self.name=nam\n",
    "        print self.name,\"constructed\"\n",
    "    \n",
    "    def party(self):\n",
    "        self.x=self.x+1\n",
    "        print self.name ,\"party count\", self.x\n",
    "\n",
    "class FootballFan(PartyAnimal):\n",
    "    points=0\n",
    "    def touchdown(self):\n",
    "        self.points+=7\n",
    "        self.party()\n",
    "        print self.name,\"points\",self.points\n",
    "        \n",
    "s=PartyAnimal(\"Sally\")\n",
    "s.party()\n",
    "\n",
    "j=FootballFan(\"Jim\")\n",
    "j.party()\n",
    "j.touchdown()"
   ]
  },
  {
   "cell_type": "code",
   "execution_count": null,
   "metadata": {
    "collapsed": true
   },
   "outputs": [],
   "source": []
  }
 ],
 "metadata": {
  "kernelspec": {
   "display_name": "Python 2",
   "language": "python",
   "name": "python2"
  },
  "language_info": {
   "codemirror_mode": {
    "name": "ipython",
    "version": 2
   },
   "file_extension": ".py",
   "mimetype": "text/x-python",
   "name": "python",
   "nbconvert_exporter": "python",
   "pygments_lexer": "ipython2",
   "version": "2.7.10"
  }
 },
 "nbformat": 4,
 "nbformat_minor": 0
}
